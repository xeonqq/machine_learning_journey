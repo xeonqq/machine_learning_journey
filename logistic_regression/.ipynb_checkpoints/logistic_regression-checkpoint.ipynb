{
 "metadata": {
  "name": "",
  "signature": "sha256:b46cfa3a3e29f7c92673d60cc9d6035466f47cf2c54be6cf4ca0d51c6aaff9b6"
 },
 "nbformat": 3,
 "nbformat_minor": 0,
 "worksheets": [
  {
   "cells": [
    {
     "cell_type": "code",
     "collapsed": false,
     "input": [
      "from sklearn.datasets import load_iris\n",
      "import numpy as np\n",
      "from numpy import where\n",
      "from pylab import scatter, show, legend, xlabel, ylabel\n",
      "%matplotlib inline\n",
      "iris = load_iris()\n",
      "x = iris.data[:100,0:2]\n"
     ],
     "language": "python",
     "metadata": {},
     "outputs": [],
     "prompt_number": 27
    },
    {
     "cell_type": "code",
     "collapsed": false,
     "input": [
      "y  = iris.target[0:100]"
     ],
     "language": "python",
     "metadata": {},
     "outputs": [],
     "prompt_number": 28
    },
    {
     "cell_type": "code",
     "collapsed": false,
     "input": [
      "pos = where(target == 1)\n",
      "neg = where(target == 0)"
     ],
     "language": "python",
     "metadata": {},
     "outputs": [],
     "prompt_number": 29
    },
    {
     "cell_type": "code",
     "collapsed": false,
     "input": [
      "scatter(x[pos, 0], x[pos, 1], marker='o', c='b')\n",
      "scatter(x[neg, 0], x[neg, 1], marker='x', c='r')"
     ],
     "language": "python",
     "metadata": {},
     "outputs": [
      {
       "metadata": {},
       "output_type": "pyout",
       "prompt_number": 30,
       "text": [
        "<matplotlib.collections.PathCollection at 0x7f269abb2c10>"
       ]
      },
      {
       "metadata": {},
       "output_type": "display_data",
       "png": "[encoded data removed]",
       "text": [
        "<matplotlib.figure.Figure at 0x7f269b4c5ed0>"
       ]
      }
     ],
     "prompt_number": 30
    },
    {
     "cell_type": "code",
     "collapsed": false,
     "input": [
      "def sigmoid(x):\n",
      "    return 1/(1+np.exp(-x))"
     ],
     "language": "python",
     "metadata": {},
     "outputs": [],
     "prompt_number": 35
    },
    {
     "cell_type": "code",
     "collapsed": false,
     "input": [
      "def h(x, theta):\n",
      "    assert len(theta) == x.shape[1]\n",
      "    return sigmoid(x.dot(theta))"
     ],
     "language": "python",
     "metadata": {},
     "outputs": [],
     "prompt_number": 36
    },
    {
     "cell_type": "code",
     "collapsed": false,
     "input": [
      "def cost_function(theta):\n",
      "    m = len(y)\n",
      "    j = -1/m*np.sum(y*np.log(h(x, theta)) + (1-y)*np.log(1-h(x, theta))) \n",
      "    return j"
     ],
     "language": "python",
     "metadata": {},
     "outputs": [],
     "prompt_number": 40
    },
    {
     "cell_type": "code",
     "collapsed": false,
     "input": [
      "def cost_function_gradient(theta):\n",
      "    y-h(x, theta)"
     ],
     "language": "python",
     "metadata": {},
     "outputs": [
      {
       "metadata": {},
       "output_type": "pyout",
       "prompt_number": 41,
       "text": [
        "421.22445803219892"
       ]
      }
     ],
     "prompt_number": 41
    },
    {
     "cell_type": "code",
     "collapsed": false,
     "input": [],
     "language": "python",
     "metadata": {},
     "outputs": []
    }
   ],
   "metadata": {}
  }
 ]
}