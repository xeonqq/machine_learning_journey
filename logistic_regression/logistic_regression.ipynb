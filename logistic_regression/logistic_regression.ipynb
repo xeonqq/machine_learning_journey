{
 "metadata": {
  "name": "",
  "signature": "sha256:0e106048bd091455c506746ba01dba2e60e9f484c9c324863fbf9e3686ba5129"
 },
 "nbformat": 3,
 "nbformat_minor": 0,
 "worksheets": [
  {
   "cells": [
    {
     "cell_type": "code",
     "collapsed": false,
     "input": [
      "from sklearn.datasets import load_iris\n",
      "import numpy as np\n",
      "from numpy import where\n",
      "from pylab import scatter, show, legend, xlabel, ylabel, plot\n",
      "from scipy.optimize import fmin_bfgs, fmin, fmin_cg\n",
      "%matplotlib inline\n",
      "\n"
     ],
     "language": "python",
     "metadata": {},
     "outputs": [],
     "prompt_number": 345
    },
    {
     "cell_type": "code",
     "collapsed": false,
     "input": [
      "iris = load_iris()\n",
      "x = iris.data[:100,0:2]\n",
      "\n",
      "\n"
     ],
     "language": "python",
     "metadata": {},
     "outputs": [],
     "prompt_number": 346
    },
    {
     "cell_type": "code",
     "collapsed": false,
     "input": [
      "y  = iris.target[0:100]"
     ],
     "language": "python",
     "metadata": {},
     "outputs": [],
     "prompt_number": 347
    },
    {
     "cell_type": "code",
     "collapsed": false,
     "input": [
      "pos = where(target == 1)\n",
      "neg = where(target == 0)"
     ],
     "language": "python",
     "metadata": {},
     "outputs": [],
     "prompt_number": 348
    },
    {
     "cell_type": "code",
     "collapsed": false,
     "input": [
      "scatter(x[pos, 0], x[pos, 1], marker='o', c='b')\n",
      "scatter(x[neg, 0], x[neg, 1], marker='x', c='r')"
     ],
     "language": "python",
     "metadata": {},
     "outputs": [
      {
       "metadata": {},
       "output_type": "pyout",
       "prompt_number": 349,
       "text": [
        "<matplotlib.collections.PathCollection at 0x7f2699bdf510>"
       ]
      },
      {
       "metadata": {},
       "output_type": "display_data",
       "png": "[encoded data removed]",
       "text": [
        "<matplotlib.figure.Figure at 0x7f2699c81fd0>"
       ]
      }
     ],
     "prompt_number": 349
    },
    {
     "cell_type": "code",
     "collapsed": false,
     "input": [
      "#append 1 for each row, because the theta0*x0+theta1*x1+theta2\n",
      "x = np.hstack((x, np.ones(100).reshape(1,-1).T))"
     ],
     "language": "python",
     "metadata": {},
     "outputs": [],
     "prompt_number": 350
    },
    {
     "cell_type": "code",
     "collapsed": false,
     "input": [
      "def sigmoid(x):\n",
      "    return 1.0/(1.0+np.exp(-x))"
     ],
     "language": "python",
     "metadata": {},
     "outputs": [],
     "prompt_number": 351
    },
    {
     "cell_type": "code",
     "collapsed": false,
     "input": [
      "def h(x, theta):\n",
      "    assert len(theta) == x.shape[1]\n",
      "    return sigmoid(x.dot(theta))"
     ],
     "language": "python",
     "metadata": {},
     "outputs": [],
     "prompt_number": 352
    },
    {
     "cell_type": "code",
     "collapsed": false,
     "input": [
      "def cost_function(theta):\n",
      "    m = len(y)\n",
      "    j = -1.0/m*np.sum(y*np.log(h(x, theta)) + (1-y)*np.log(1-h(x, theta))) \n",
      "    return j"
     ],
     "language": "python",
     "metadata": {},
     "outputs": [],
     "prompt_number": 353
    },
    {
     "cell_type": "code",
     "collapsed": false,
     "input": [
      "def cost_function_gradient(theta): \n",
      "    m = len(y)\n",
      "    dj = 1.0/m * np.sum(x*((h(x, theta)-y)[:,np.newaxis]), axis=0)\n",
      "    return dj"
     ],
     "language": "python",
     "metadata": {},
     "outputs": [],
     "prompt_number": 354
    },
    {
     "cell_type": "code",
     "collapsed": false,
     "input": [
      "theta0 = np.array([0,0,0])\n",
      "r1= fmin_bfgs(cost_function, theta0, cost_function_gradient)\n",
      "#r2 =  fmin_cg(cost_function, theta0, cost_function_gradient)\n",
      "#r3 = fmin(cost_function, theta0)\n"
     ],
     "language": "python",
     "metadata": {},
     "outputs": [
      {
       "output_type": "stream",
       "stream": "stdout",
       "text": [
        "Warning: Desired error not necessarily achieved due to precision loss.\n",
        "         Current function value: nan\n",
        "         Iterations: 34\n",
        "         Function evaluations: 67\n",
        "         Gradient evaluations: 67\n"
       ]
      }
     ],
     "prompt_number": 356
    },
    {
     "cell_type": "code",
     "collapsed": false,
     "input": [
      "linx = np.linspace(min(x[:,0]),max(x[:,0]), 100)"
     ],
     "language": "python",
     "metadata": {},
     "outputs": [],
     "prompt_number": 366
    },
    {
     "cell_type": "code",
     "collapsed": false,
     "input": [
      "liny1 = -(r1[0]*linx+r1[2])/r1[1]\n",
      "#liny2 = -(r2[0]*linx+r2[2])/r2[1]\n",
      "#liny3 = -(r3[0]*linx+r3[2])/r3[1]"
     ],
     "language": "python",
     "metadata": {},
     "outputs": [],
     "prompt_number": 367
    },
    {
     "cell_type": "code",
     "collapsed": false,
     "input": [
      "scatter(x[pos, 0], x[pos, 1], marker='o', c='b')\n",
      "scatter(x[neg, 0], x[neg, 1], marker='x', c='r')\n",
      "plot(linx, liny1)\n",
      "#plot(linx, liny2)\n",
      "#plot(linx, liny3)"
     ],
     "language": "python",
     "metadata": {},
     "outputs": [
      {
       "metadata": {},
       "output_type": "pyout",
       "prompt_number": 368,
       "text": [
        "[<matplotlib.lines.Line2D at 0x7f26998846d0>]"
       ]
      },
      {
       "metadata": {},
       "output_type": "display_data",
       "png": "[encoded data removed]",
       "text": [
        "<matplotlib.figure.Figure at 0x7f26998efb10>"
       ]
      }
     ],
     "prompt_number": 368
    },
    {
     "cell_type": "code",
     "collapsed": false,
     "input": [],
     "language": "python",
     "metadata": {},
     "outputs": [],
     "prompt_number": 368
    },
    {
     "cell_type": "code",
     "collapsed": false,
     "input": [],
     "language": "python",
     "metadata": {},
     "outputs": []
    }
   ],
   "metadata": {}
  }
 ]
}